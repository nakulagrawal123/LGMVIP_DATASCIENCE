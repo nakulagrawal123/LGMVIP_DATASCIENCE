{
  "nbformat": 4,
  "nbformat_minor": 0,
  "metadata": {
    "colab": {
      "name": "LGMVIP_DataScienceTask_2.ipynb",
      "provenance": [],
      "authorship_tag": "ABX9TyP4aTDo70Hu29PSAhhnQQ3u",
      "include_colab_link": true
    },
    "kernelspec": {
      "name": "python3",
      "display_name": "Python 3"
    },
    "language_info": {
      "name": "python"
    }
  },
  "cells": [
    {
      "cell_type": "markdown",
      "metadata": {
        "id": "view-in-github",
        "colab_type": "text"
      },
      "source": [
        "<a href=\"https://colab.research.google.com/github/nakulagrawal123/LGMVIP_DATASCIENCE/blob/main/LGMVIP_DataScienceTask_2.ipynb\" target=\"_parent\"><img src=\"https://colab.research.google.com/assets/colab-badge.svg\" alt=\"Open In Colab\"/></a>"
      ]
    },
    {
      "cell_type": "markdown",
      "source": [
        "\n",
        "\n",
        "TASK 2 : Stock Market Prediction and Forecasting Using Stacked LSTM\n",
        "\n",
        "\n",
        "Performed by : Nakul Agrawal\n",
        "\n",
        "Import the Necessary libraries\n"
      ],
      "metadata": {
        "id": "3kjhfEGhe644"
      }
    },
    {
      "cell_type": "code",
      "source": [
        "import numpy as np\n",
        "import matplotlib.pyplot as plt\n",
        "import pandas as pd\n",
        "\n",
        "\n",
        "\n"
      ],
      "metadata": {
        "id": "E0yZ5qLkfK_r"
      },
      "execution_count": 3,
      "outputs": []
    },
    {
      "cell_type": "code",
      "source": [
        "url = 'https://raw.githubusercontent.com/mwitiderrick/stockprice/master/NSE-TATAGLOBAL.csv'\n",
        "dataset_train = pd.read_csv(url)\n",
        "training_set = dataset_train.iloc[:,1:2].values\n",
        "\n",
        "\n"
      ],
      "metadata": {
        "id": "-idmCJV_fN3A"
      },
      "execution_count": 4,
      "outputs": []
    },
    {
      "cell_type": "code",
      "source": [
        "\n",
        "\n",
        "dataset_train.head()\n",
        "\n"
      ],
      "metadata": {
        "colab": {
          "base_uri": "https://localhost:8080/",
          "height": 206
        },
        "id": "rD3a37sZfkA8",
        "outputId": "5b3f4d47-cf2b-440b-960b-f76656829680"
      },
      "execution_count": 5,
      "outputs": [
        {
          "output_type": "execute_result",
          "data": {
            "text/plain": [
              "         Date    Open    High     Low    Last   Close  Total Trade Quantity  \\\n",
              "0  2018-09-28  234.05  235.95  230.20  233.50  233.75               3069914   \n",
              "1  2018-09-27  234.55  236.80  231.10  233.80  233.25               5082859   \n",
              "2  2018-09-26  240.00  240.00  232.50  235.00  234.25               2240909   \n",
              "3  2018-09-25  233.30  236.75  232.00  236.25  236.10               2349368   \n",
              "4  2018-09-24  233.55  239.20  230.75  234.00  233.30               3423509   \n",
              "\n",
              "   Turnover (Lacs)  \n",
              "0          7162.35  \n",
              "1         11859.95  \n",
              "2          5248.60  \n",
              "3          5503.90  \n",
              "4          7999.55  "
            ],
            "text/html": [
              "\n",
              "  <div id=\"df-ed5597ae-f375-478d-967e-643e63ab7a75\">\n",
              "    <div class=\"colab-df-container\">\n",
              "      <div>\n",
              "<style scoped>\n",
              "    .dataframe tbody tr th:only-of-type {\n",
              "        vertical-align: middle;\n",
              "    }\n",
              "\n",
              "    .dataframe tbody tr th {\n",
              "        vertical-align: top;\n",
              "    }\n",
              "\n",
              "    .dataframe thead th {\n",
              "        text-align: right;\n",
              "    }\n",
              "</style>\n",
              "<table border=\"1\" class=\"dataframe\">\n",
              "  <thead>\n",
              "    <tr style=\"text-align: right;\">\n",
              "      <th></th>\n",
              "      <th>Date</th>\n",
              "      <th>Open</th>\n",
              "      <th>High</th>\n",
              "      <th>Low</th>\n",
              "      <th>Last</th>\n",
              "      <th>Close</th>\n",
              "      <th>Total Trade Quantity</th>\n",
              "      <th>Turnover (Lacs)</th>\n",
              "    </tr>\n",
              "  </thead>\n",
              "  <tbody>\n",
              "    <tr>\n",
              "      <th>0</th>\n",
              "      <td>2018-09-28</td>\n",
              "      <td>234.05</td>\n",
              "      <td>235.95</td>\n",
              "      <td>230.20</td>\n",
              "      <td>233.50</td>\n",
              "      <td>233.75</td>\n",
              "      <td>3069914</td>\n",
              "      <td>7162.35</td>\n",
              "    </tr>\n",
              "    <tr>\n",
              "      <th>1</th>\n",
              "      <td>2018-09-27</td>\n",
              "      <td>234.55</td>\n",
              "      <td>236.80</td>\n",
              "      <td>231.10</td>\n",
              "      <td>233.80</td>\n",
              "      <td>233.25</td>\n",
              "      <td>5082859</td>\n",
              "      <td>11859.95</td>\n",
              "    </tr>\n",
              "    <tr>\n",
              "      <th>2</th>\n",
              "      <td>2018-09-26</td>\n",
              "      <td>240.00</td>\n",
              "      <td>240.00</td>\n",
              "      <td>232.50</td>\n",
              "      <td>235.00</td>\n",
              "      <td>234.25</td>\n",
              "      <td>2240909</td>\n",
              "      <td>5248.60</td>\n",
              "    </tr>\n",
              "    <tr>\n",
              "      <th>3</th>\n",
              "      <td>2018-09-25</td>\n",
              "      <td>233.30</td>\n",
              "      <td>236.75</td>\n",
              "      <td>232.00</td>\n",
              "      <td>236.25</td>\n",
              "      <td>236.10</td>\n",
              "      <td>2349368</td>\n",
              "      <td>5503.90</td>\n",
              "    </tr>\n",
              "    <tr>\n",
              "      <th>4</th>\n",
              "      <td>2018-09-24</td>\n",
              "      <td>233.55</td>\n",
              "      <td>239.20</td>\n",
              "      <td>230.75</td>\n",
              "      <td>234.00</td>\n",
              "      <td>233.30</td>\n",
              "      <td>3423509</td>\n",
              "      <td>7999.55</td>\n",
              "    </tr>\n",
              "  </tbody>\n",
              "</table>\n",
              "</div>\n",
              "      <button class=\"colab-df-convert\" onclick=\"convertToInteractive('df-ed5597ae-f375-478d-967e-643e63ab7a75')\"\n",
              "              title=\"Convert this dataframe to an interactive table.\"\n",
              "              style=\"display:none;\">\n",
              "        \n",
              "  <svg xmlns=\"http://www.w3.org/2000/svg\" height=\"24px\"viewBox=\"0 0 24 24\"\n",
              "       width=\"24px\">\n",
              "    <path d=\"M0 0h24v24H0V0z\" fill=\"none\"/>\n",
              "    <path d=\"M18.56 5.44l.94 2.06.94-2.06 2.06-.94-2.06-.94-.94-2.06-.94 2.06-2.06.94zm-11 1L8.5 8.5l.94-2.06 2.06-.94-2.06-.94L8.5 2.5l-.94 2.06-2.06.94zm10 10l.94 2.06.94-2.06 2.06-.94-2.06-.94-.94-2.06-.94 2.06-2.06.94z\"/><path d=\"M17.41 7.96l-1.37-1.37c-.4-.4-.92-.59-1.43-.59-.52 0-1.04.2-1.43.59L10.3 9.45l-7.72 7.72c-.78.78-.78 2.05 0 2.83L4 21.41c.39.39.9.59 1.41.59.51 0 1.02-.2 1.41-.59l7.78-7.78 2.81-2.81c.8-.78.8-2.07 0-2.86zM5.41 20L4 18.59l7.72-7.72 1.47 1.35L5.41 20z\"/>\n",
              "  </svg>\n",
              "      </button>\n",
              "      \n",
              "  <style>\n",
              "    .colab-df-container {\n",
              "      display:flex;\n",
              "      flex-wrap:wrap;\n",
              "      gap: 12px;\n",
              "    }\n",
              "\n",
              "    .colab-df-convert {\n",
              "      background-color: #E8F0FE;\n",
              "      border: none;\n",
              "      border-radius: 50%;\n",
              "      cursor: pointer;\n",
              "      display: none;\n",
              "      fill: #1967D2;\n",
              "      height: 32px;\n",
              "      padding: 0 0 0 0;\n",
              "      width: 32px;\n",
              "    }\n",
              "\n",
              "    .colab-df-convert:hover {\n",
              "      background-color: #E2EBFA;\n",
              "      box-shadow: 0px 1px 2px rgba(60, 64, 67, 0.3), 0px 1px 3px 1px rgba(60, 64, 67, 0.15);\n",
              "      fill: #174EA6;\n",
              "    }\n",
              "\n",
              "    [theme=dark] .colab-df-convert {\n",
              "      background-color: #3B4455;\n",
              "      fill: #D2E3FC;\n",
              "    }\n",
              "\n",
              "    [theme=dark] .colab-df-convert:hover {\n",
              "      background-color: #434B5C;\n",
              "      box-shadow: 0px 1px 3px 1px rgba(0, 0, 0, 0.15);\n",
              "      filter: drop-shadow(0px 1px 2px rgba(0, 0, 0, 0.3));\n",
              "      fill: #FFFFFF;\n",
              "    }\n",
              "  </style>\n",
              "\n",
              "      <script>\n",
              "        const buttonEl =\n",
              "          document.querySelector('#df-ed5597ae-f375-478d-967e-643e63ab7a75 button.colab-df-convert');\n",
              "        buttonEl.style.display =\n",
              "          google.colab.kernel.accessAllowed ? 'block' : 'none';\n",
              "\n",
              "        async function convertToInteractive(key) {\n",
              "          const element = document.querySelector('#df-ed5597ae-f375-478d-967e-643e63ab7a75');\n",
              "          const dataTable =\n",
              "            await google.colab.kernel.invokeFunction('convertToInteractive',\n",
              "                                                     [key], {});\n",
              "          if (!dataTable) return;\n",
              "\n",
              "          const docLinkHtml = 'Like what you see? Visit the ' +\n",
              "            '<a target=\"_blank\" href=https://colab.research.google.com/notebooks/data_table.ipynb>data table notebook</a>'\n",
              "            + ' to learn more about interactive tables.';\n",
              "          element.innerHTML = '';\n",
              "          dataTable['output_type'] = 'display_data';\n",
              "          await google.colab.output.renderOutput(dataTable, element);\n",
              "          const docLink = document.createElement('div');\n",
              "          docLink.innerHTML = docLinkHtml;\n",
              "          element.appendChild(docLink);\n",
              "        }\n",
              "      </script>\n",
              "    </div>\n",
              "  </div>\n",
              "  "
            ]
          },
          "metadata": {},
          "execution_count": 5
        }
      ]
    },
    {
      "cell_type": "code",
      "source": [
        "\n",
        "\n",
        "data_close = dataset_train['Close']\n",
        "\n"
      ],
      "metadata": {
        "id": "IVznXzvUfnE5"
      },
      "execution_count": 6,
      "outputs": []
    },
    {
      "cell_type": "code",
      "source": [
        "data_close"
      ],
      "metadata": {
        "colab": {
          "base_uri": "https://localhost:8080/"
        },
        "id": "4x3JAbr-fqN9",
        "outputId": "9da5d6a3-6f8d-46b1-da06-adf0b1b96bb1"
      },
      "execution_count": 7,
      "outputs": [
        {
          "output_type": "execute_result",
          "data": {
            "text/plain": [
              "0       233.75\n",
              "1       233.25\n",
              "2       234.25\n",
              "3       236.10\n",
              "4       233.30\n",
              "         ...  \n",
              "2030    118.65\n",
              "2031    117.60\n",
              "2032    120.65\n",
              "2033    120.90\n",
              "2034    121.55\n",
              "Name: Close, Length: 2035, dtype: float64"
            ]
          },
          "metadata": {},
          "execution_count": 7
        }
      ]
    },
    {
      "cell_type": "code",
      "source": [
        "\n",
        "\n",
        "plt.plot(data_close)\n",
        "\n"
      ],
      "metadata": {
        "colab": {
          "base_uri": "https://localhost:8080/",
          "height": 283
        },
        "id": "e1eeXEpdfvL2",
        "outputId": "101d027d-722c-4255-994a-13b568373c97"
      },
      "execution_count": 8,
      "outputs": [
        {
          "output_type": "execute_result",
          "data": {
            "text/plain": [
              "[<matplotlib.lines.Line2D at 0x7fcca88fdc90>]"
            ]
          },
          "metadata": {},
          "execution_count": 8
        },
        {
          "output_type": "display_data",
          "data": {
            "text/plain": [
              "<Figure size 432x288 with 1 Axes>"
            ],
            "image/png": "[encoded data removed]"
          },
          "metadata": {
            "needs_background": "light"
          }
        }
      ]
    },
    {
      "cell_type": "code",
      "source": [
        "\n",
        "\n",
        "from sklearn.preprocessing import MinMaxScaler\n",
        "scaler = MinMaxScaler(feature_range = (0,1))\n",
        "data_close = scaler.fit_transform(np.array(data_close).reshape(-1,1))\n",
        "\n"
      ],
      "metadata": {
        "id": "53iQz32wfydR"
      },
      "execution_count": 9,
      "outputs": []
    },
    {
      "cell_type": "code",
      "source": [
        "\n",
        "\n",
        "data_close.shape\n",
        "\n"
      ],
      "metadata": {
        "colab": {
          "base_uri": "https://localhost:8080/"
        },
        "id": "XJgUyIlkf2r9",
        "outputId": "193216c3-1f09-4301-b6d7-65104fa6ac79"
      },
      "execution_count": 10,
      "outputs": [
        {
          "output_type": "execute_result",
          "data": {
            "text/plain": [
              "(2035, 1)"
            ]
          },
          "metadata": {},
          "execution_count": 10
        }
      ]
    },
    {
      "cell_type": "code",
      "source": [
        "\n",
        "\n",
        "print(data_close)\n",
        "\n"
      ],
      "metadata": {
        "colab": {
          "base_uri": "https://localhost:8080/"
        },
        "id": "fJZLBa-hf5Ny",
        "outputId": "2798f8cb-379d-4dee-eadf-a2f5f37f84cd"
      },
      "execution_count": 11,
      "outputs": [
        {
          "output_type": "stream",
          "name": "stdout",
          "text": [
            "[[0.62418301]\n",
            " [0.62214052]\n",
            " [0.62622549]\n",
            " ...\n",
            " [0.1621732 ]\n",
            " [0.16319444]\n",
            " [0.16584967]]\n"
          ]
        }
      ]
    },
    {
      "cell_type": "code",
      "source": [
        ""
      ],
      "metadata": {
        "id": "ryEzsbHvf8-f"
      },
      "execution_count": null,
      "outputs": []
    },
    {
      "cell_type": "markdown",
      "source": [
        "Train and Test Split"
      ],
      "metadata": {
        "id": "rgLjdmprf_kN"
      }
    },
    {
      "cell_type": "code",
      "source": [
        "\n",
        "\n",
        "training_size = int(len(data_close)*0.75)\n",
        "test_size = len(data_close) - training_size\n",
        "train_data, test_data = data_close[0:training_size,:], data_close[training_size:len(data_close),:1]\n",
        "\n"
      ],
      "metadata": {
        "id": "R--ws1BkgCSn"
      },
      "execution_count": 12,
      "outputs": []
    },
    {
      "cell_type": "code",
      "source": [
        "\n",
        "\n",
        "def create_dataset(dataset, time_step = 1):\n",
        "    dataX, dataY = [], []\n",
        "    for i in range(len(dataset)- time_step - 1):\n",
        "        a = dataset[i:(i+time_step), 0]\n",
        "        dataX.append(a)\n",
        "        dataY.append(dataset[i+time_step, 0])\n",
        "    return np.array(dataX), np.array(dataY)\n",
        "\n",
        "\n",
        "\n"
      ],
      "metadata": {
        "id": "f5-69X-7gGGi"
      },
      "execution_count": 14,
      "outputs": []
    },
    {
      "cell_type": "code",
      "source": [
        "\n",
        "\n",
        "time_step = 100\n",
        "x_train, y_train = create_dataset(train_data, time_step)\n",
        "x_test, y_test = create_dataset(test_data, time_step)\n",
        "\n"
      ],
      "metadata": {
        "id": "ZCq32vLogJo4"
      },
      "execution_count": 15,
      "outputs": []
    },
    {
      "cell_type": "code",
      "source": [
        "#Reshape the input to be [samples , time steps, features] which the requirement of LSTM\n",
        "x_train = x_train.reshape(x_train.shape[0], x_train.shape[1], 1)\n",
        "x_test = x_test.reshape(x_test.shape[0], x_test.shape[1], 1)"
      ],
      "metadata": {
        "id": "3rPyJcv7gYO0"
      },
      "execution_count": 17,
      "outputs": []
    },
    {
      "cell_type": "code",
      "source": [
        "#create the LSTM Model\n",
        "from keras.models import Sequential\n",
        "from keras.layers import LSTM\n",
        "from keras.layers import Dropout\n",
        "from keras.layers import Dense\n",
        "model = Sequential()\n",
        "model.add(LSTM(50,return_sequences = True, input_shape = (100,1)))\n",
        "model.add(LSTM(50,return_sequences = True))\n",
        "model.add(LSTM(50))\n",
        "model.add(Dense(1))\n",
        "model.compile(loss = 'mean_squared_error', optimizer = 'adam')\n",
        "\n"
      ],
      "metadata": {
        "id": "zxPTsPPZgbvn"
      },
      "execution_count": 18,
      "outputs": []
    },
    {
      "cell_type": "code",
      "source": [
        "\n",
        "\n",
        "model.summary()\n",
        "\n"
      ],
      "metadata": {
        "colab": {
          "base_uri": "https://localhost:8080/"
        },
        "id": "OZgWkXNSglgY",
        "outputId": "eb5ffccc-e49e-4197-c976-c535a46c71d6"
      },
      "execution_count": 19,
      "outputs": [
        {
          "output_type": "stream",
          "name": "stdout",
          "text": [
            "Model: \"sequential\"\n",
            "_________________________________________________________________\n",
            " Layer (type)                Output Shape              Param #   \n",
            "=================================================================\n",
            " lstm (LSTM)                 (None, 100, 50)           10400     \n",
            "                                                                 \n",
            " lstm_1 (LSTM)               (None, 100, 50)           20200     \n",
            "                                                                 \n",
            " lstm_2 (LSTM)               (None, 50)                20200     \n",
            "                                                                 \n",
            " dense (Dense)               (None, 1)                 51        \n",
            "                                                                 \n",
            "=================================================================\n",
            "Total params: 50,851\n",
            "Trainable params: 50,851\n",
            "Non-trainable params: 0\n",
            "_________________________________________________________________\n"
          ]
        }
      ]
    },
    {
      "cell_type": "code",
      "source": [
        "\n",
        "\n",
        "model.summary()\n",
        "\n"
      ],
      "metadata": {
        "colab": {
          "base_uri": "https://localhost:8080/"
        },
        "id": "EDuysgKXgpfy",
        "outputId": "02b5dd39-65f4-42bd-f0ad-19235596bb6d"
      },
      "execution_count": 20,
      "outputs": [
        {
          "output_type": "stream",
          "name": "stdout",
          "text": [
            "Model: \"sequential\"\n",
            "_________________________________________________________________\n",
            " Layer (type)                Output Shape              Param #   \n",
            "=================================================================\n",
            " lstm (LSTM)                 (None, 100, 50)           10400     \n",
            "                                                                 \n",
            " lstm_1 (LSTM)               (None, 100, 50)           20200     \n",
            "                                                                 \n",
            " lstm_2 (LSTM)               (None, 50)                20200     \n",
            "                                                                 \n",
            " dense (Dense)               (None, 1)                 51        \n",
            "                                                                 \n",
            "=================================================================\n",
            "Total params: 50,851\n",
            "Trainable params: 50,851\n",
            "Non-trainable params: 0\n",
            "_________________________________________________________________\n"
          ]
        }
      ]
    },
    {
      "cell_type": "code",
      "source": [
        "\n",
        "\n",
        "model.fit(x_train, y_train, validation_data = (x_test, y_test), epochs = 100, batch_size = 64, verbose = 1)\n",
        "\n"
      ],
      "metadata": {
        "colab": {
          "base_uri": "https://localhost:8080/"
        },
        "id": "ezJr13ZrgrEc",
        "outputId": "1ae4434f-7d75-4089-f3e5-e31ac21c514e"
      },
      "execution_count": 21,
      "outputs": [
        {
          "output_type": "stream",
          "name": "stdout",
          "text": [
            "Epoch 1/100\n",
            "23/23 [==============================] - 13s 258ms/step - loss: 0.0264 - val_loss: 0.0110\n",
            "Epoch 2/100\n",
            "23/23 [==============================] - 4s 191ms/step - loss: 0.0029 - val_loss: 7.6299e-04\n",
            "Epoch 3/100\n",
            "23/23 [==============================] - 4s 188ms/step - loss: 0.0016 - val_loss: 0.0015\n",
            "Epoch 4/100\n",
            "23/23 [==============================] - 5s 240ms/step - loss: 0.0014 - val_loss: 0.0013\n",
            "Epoch 5/100\n",
            "23/23 [==============================] - 5s 195ms/step - loss: 0.0014 - val_loss: 0.0012\n",
            "Epoch 6/100\n",
            "23/23 [==============================] - 7s 292ms/step - loss: 0.0014 - val_loss: 0.0012\n",
            "Epoch 7/100\n",
            "23/23 [==============================] - 4s 187ms/step - loss: 0.0012 - val_loss: 0.0012\n",
            "Epoch 8/100\n",
            "23/23 [==============================] - 5s 214ms/step - loss: 0.0011 - val_loss: 0.0014\n",
            "Epoch 9/100\n",
            "23/23 [==============================] - 6s 247ms/step - loss: 0.0011 - val_loss: 7.2608e-04\n",
            "Epoch 10/100\n",
            "23/23 [==============================] - 4s 191ms/step - loss: 9.8281e-04 - val_loss: 8.3124e-04\n",
            "Epoch 11/100\n",
            "23/23 [==============================] - 7s 320ms/step - loss: 8.9470e-04 - val_loss: 8.5628e-04\n",
            "Epoch 12/100\n",
            "23/23 [==============================] - 8s 345ms/step - loss: 8.2725e-04 - val_loss: 7.5253e-04\n",
            "Epoch 13/100\n",
            "23/23 [==============================] - 7s 285ms/step - loss: 8.3015e-04 - val_loss: 6.0236e-04\n",
            "Epoch 14/100\n",
            "23/23 [==============================] - 4s 189ms/step - loss: 7.7264e-04 - val_loss: 7.9165e-04\n",
            "Epoch 15/100\n",
            "23/23 [==============================] - 4s 185ms/step - loss: 7.0954e-04 - val_loss: 7.9795e-04\n",
            "Epoch 16/100\n",
            "23/23 [==============================] - 4s 188ms/step - loss: 6.8504e-04 - val_loss: 7.9036e-04\n",
            "Epoch 17/100\n",
            "23/23 [==============================] - 4s 187ms/step - loss: 6.7270e-04 - val_loss: 5.8782e-04\n",
            "Epoch 18/100\n",
            "23/23 [==============================] - 6s 281ms/step - loss: 7.0775e-04 - val_loss: 6.9696e-04\n",
            "Epoch 19/100\n",
            "23/23 [==============================] - 6s 268ms/step - loss: 7.0038e-04 - val_loss: 7.1282e-04\n",
            "Epoch 20/100\n",
            "23/23 [==============================] - 4s 193ms/step - loss: 7.4157e-04 - val_loss: 9.1917e-04\n",
            "Epoch 21/100\n",
            "23/23 [==============================] - 6s 282ms/step - loss: 6.7511e-04 - val_loss: 0.0011\n",
            "Epoch 22/100\n",
            "23/23 [==============================] - 4s 185ms/step - loss: 5.8486e-04 - val_loss: 5.4456e-04\n",
            "Epoch 23/100\n",
            "23/23 [==============================] - 4s 187ms/step - loss: 5.6083e-04 - val_loss: 4.9044e-04\n",
            "Epoch 24/100\n",
            "23/23 [==============================] - 6s 273ms/step - loss: 5.9151e-04 - val_loss: 7.7907e-04\n",
            "Epoch 25/100\n",
            "23/23 [==============================] - 4s 184ms/step - loss: 5.9308e-04 - val_loss: 0.0011\n",
            "Epoch 26/100\n",
            "23/23 [==============================] - 6s 265ms/step - loss: 5.2462e-04 - val_loss: 5.6318e-04\n",
            "Epoch 27/100\n",
            "23/23 [==============================] - 4s 187ms/step - loss: 5.1270e-04 - val_loss: 5.9937e-04\n",
            "Epoch 28/100\n",
            "23/23 [==============================] - 4s 189ms/step - loss: 5.0751e-04 - val_loss: 5.1832e-04\n",
            "Epoch 29/100\n",
            "23/23 [==============================] - 4s 184ms/step - loss: 4.8152e-04 - val_loss: 7.3244e-04\n",
            "Epoch 30/100\n",
            "23/23 [==============================] - 6s 267ms/step - loss: 5.8389e-04 - val_loss: 5.6783e-04\n",
            "Epoch 31/100\n",
            "23/23 [==============================] - 5s 206ms/step - loss: 4.7043e-04 - val_loss: 5.2240e-04\n",
            "Epoch 32/100\n",
            "23/23 [==============================] - 4s 187ms/step - loss: 4.5445e-04 - val_loss: 4.4620e-04\n",
            "Epoch 33/100\n",
            "23/23 [==============================] - 6s 250ms/step - loss: 5.5655e-04 - val_loss: 4.5701e-04\n",
            "Epoch 34/100\n",
            "23/23 [==============================] - 5s 207ms/step - loss: 5.0854e-04 - val_loss: 3.6766e-04\n",
            "Epoch 35/100\n",
            "23/23 [==============================] - 4s 187ms/step - loss: 6.3124e-04 - val_loss: 4.0312e-04\n",
            "Epoch 36/100\n",
            "23/23 [==============================] - 7s 289ms/step - loss: 4.9769e-04 - val_loss: 3.8397e-04\n",
            "Epoch 37/100\n",
            "23/23 [==============================] - 4s 187ms/step - loss: 4.0840e-04 - val_loss: 4.0521e-04\n",
            "Epoch 38/100\n",
            "23/23 [==============================] - 4s 191ms/step - loss: 4.1301e-04 - val_loss: 4.4901e-04\n",
            "Epoch 39/100\n",
            "23/23 [==============================] - 6s 263ms/step - loss: 4.0032e-04 - val_loss: 4.9713e-04\n",
            "Epoch 40/100\n",
            "23/23 [==============================] - 5s 205ms/step - loss: 3.7359e-04 - val_loss: 4.1480e-04\n",
            "Epoch 41/100\n",
            "23/23 [==============================] - 7s 327ms/step - loss: 3.7194e-04 - val_loss: 4.2124e-04\n",
            "Epoch 42/100\n",
            "23/23 [==============================] - 7s 321ms/step - loss: 3.8622e-04 - val_loss: 3.8842e-04\n",
            "Epoch 43/100\n",
            "23/23 [==============================] - 4s 191ms/step - loss: 4.0220e-04 - val_loss: 3.0428e-04\n",
            "Epoch 44/100\n",
            "23/23 [==============================] - 4s 189ms/step - loss: 4.6011e-04 - val_loss: 3.7930e-04\n",
            "Epoch 45/100\n",
            "23/23 [==============================] - 4s 188ms/step - loss: 3.4770e-04 - val_loss: 4.3001e-04\n",
            "Epoch 46/100\n",
            "23/23 [==============================] - 4s 191ms/step - loss: 3.6432e-04 - val_loss: 3.9932e-04\n",
            "Epoch 47/100\n",
            "23/23 [==============================] - 4s 193ms/step - loss: 3.3069e-04 - val_loss: 2.9894e-04\n",
            "Epoch 48/100\n",
            "23/23 [==============================] - 4s 189ms/step - loss: 3.2244e-04 - val_loss: 3.9327e-04\n",
            "Epoch 49/100\n",
            "23/23 [==============================] - 4s 185ms/step - loss: 3.2345e-04 - val_loss: 2.9129e-04\n",
            "Epoch 50/100\n",
            "23/23 [==============================] - 4s 187ms/step - loss: 3.5891e-04 - val_loss: 3.9702e-04\n",
            "Epoch 51/100\n",
            "23/23 [==============================] - 4s 189ms/step - loss: 3.5980e-04 - val_loss: 2.8753e-04\n",
            "Epoch 52/100\n",
            "23/23 [==============================] - 4s 190ms/step - loss: 3.5403e-04 - val_loss: 2.7074e-04\n",
            "Epoch 53/100\n",
            "23/23 [==============================] - 4s 186ms/step - loss: 4.1573e-04 - val_loss: 2.3965e-04\n",
            "Epoch 54/100\n",
            "23/23 [==============================] - 4s 190ms/step - loss: 3.1589e-04 - val_loss: 2.8080e-04\n",
            "Epoch 55/100\n",
            "23/23 [==============================] - 4s 190ms/step - loss: 2.8567e-04 - val_loss: 2.8545e-04\n",
            "Epoch 56/100\n",
            "23/23 [==============================] - 5s 235ms/step - loss: 2.9183e-04 - val_loss: 2.9406e-04\n",
            "Epoch 57/100\n",
            "23/23 [==============================] - 4s 190ms/step - loss: 3.0181e-04 - val_loss: 2.8261e-04\n",
            "Epoch 58/100\n",
            "23/23 [==============================] - 4s 190ms/step - loss: 2.8929e-04 - val_loss: 3.7710e-04\n",
            "Epoch 59/100\n",
            "23/23 [==============================] - 4s 194ms/step - loss: 2.9634e-04 - val_loss: 3.3862e-04\n",
            "Epoch 60/100\n",
            "23/23 [==============================] - 4s 195ms/step - loss: 2.6572e-04 - val_loss: 2.1389e-04\n",
            "Epoch 61/100\n",
            "23/23 [==============================] - 5s 199ms/step - loss: 2.7684e-04 - val_loss: 2.4063e-04\n",
            "Epoch 62/100\n",
            "23/23 [==============================] - 4s 193ms/step - loss: 2.7194e-04 - val_loss: 3.0251e-04\n",
            "Epoch 63/100\n",
            "23/23 [==============================] - 4s 195ms/step - loss: 2.8472e-04 - val_loss: 2.8672e-04\n",
            "Epoch 64/100\n",
            "23/23 [==============================] - 4s 189ms/step - loss: 2.4860e-04 - val_loss: 2.4516e-04\n",
            "Epoch 65/100\n",
            "23/23 [==============================] - 4s 188ms/step - loss: 2.6586e-04 - val_loss: 3.0092e-04\n",
            "Epoch 66/100\n",
            "23/23 [==============================] - 4s 188ms/step - loss: 2.7514e-04 - val_loss: 4.9297e-04\n",
            "Epoch 67/100\n",
            "23/23 [==============================] - 4s 188ms/step - loss: 2.8307e-04 - val_loss: 2.2341e-04\n",
            "Epoch 68/100\n",
            "23/23 [==============================] - 4s 189ms/step - loss: 2.4310e-04 - val_loss: 2.7923e-04\n",
            "Epoch 69/100\n",
            "23/23 [==============================] - 4s 186ms/step - loss: 2.5839e-04 - val_loss: 2.2302e-04\n",
            "Epoch 70/100\n",
            "23/23 [==============================] - 4s 188ms/step - loss: 2.7786e-04 - val_loss: 2.5467e-04\n",
            "Epoch 71/100\n",
            "23/23 [==============================] - 4s 188ms/step - loss: 2.2926e-04 - val_loss: 2.2084e-04\n",
            "Epoch 72/100\n",
            "23/23 [==============================] - 4s 189ms/step - loss: 2.6238e-04 - val_loss: 2.3523e-04\n",
            "Epoch 73/100\n",
            "23/23 [==============================] - 4s 191ms/step - loss: 2.3466e-04 - val_loss: 2.6397e-04\n",
            "Epoch 74/100\n",
            "23/23 [==============================] - 4s 187ms/step - loss: 2.2231e-04 - val_loss: 3.1569e-04\n",
            "Epoch 75/100\n",
            "23/23 [==============================] - 4s 189ms/step - loss: 2.2983e-04 - val_loss: 2.6137e-04\n",
            "Epoch 76/100\n",
            "23/23 [==============================] - 4s 187ms/step - loss: 2.5448e-04 - val_loss: 3.3766e-04\n",
            "Epoch 77/100\n",
            "23/23 [==============================] - 4s 187ms/step - loss: 2.3770e-04 - val_loss: 2.1586e-04\n",
            "Epoch 78/100\n",
            "23/23 [==============================] - 4s 187ms/step - loss: 2.5828e-04 - val_loss: 2.1788e-04\n",
            "Epoch 79/100\n",
            "23/23 [==============================] - 4s 191ms/step - loss: 2.5041e-04 - val_loss: 2.6549e-04\n",
            "Epoch 80/100\n",
            "23/23 [==============================] - 4s 190ms/step - loss: 2.4218e-04 - val_loss: 2.3542e-04\n",
            "Epoch 81/100\n",
            "23/23 [==============================] - 4s 188ms/step - loss: 2.3487e-04 - val_loss: 2.3141e-04\n",
            "Epoch 82/100\n",
            "23/23 [==============================] - 4s 189ms/step - loss: 2.6193e-04 - val_loss: 2.2389e-04\n",
            "Epoch 83/100\n",
            "23/23 [==============================] - 4s 191ms/step - loss: 2.3370e-04 - val_loss: 2.3605e-04\n",
            "Epoch 84/100\n",
            "23/23 [==============================] - 4s 192ms/step - loss: 2.1997e-04 - val_loss: 2.0777e-04\n",
            "Epoch 85/100\n",
            "23/23 [==============================] - 4s 190ms/step - loss: 2.1912e-04 - val_loss: 1.8398e-04\n",
            "Epoch 86/100\n",
            "23/23 [==============================] - 4s 190ms/step - loss: 2.5447e-04 - val_loss: 2.5752e-04\n",
            "Epoch 87/100\n",
            "23/23 [==============================] - 4s 191ms/step - loss: 2.2960e-04 - val_loss: 3.7072e-04\n",
            "Epoch 88/100\n",
            "23/23 [==============================] - 4s 189ms/step - loss: 2.5463e-04 - val_loss: 1.9967e-04\n",
            "Epoch 89/100\n",
            "23/23 [==============================] - 4s 188ms/step - loss: 2.1937e-04 - val_loss: 1.6247e-04\n",
            "Epoch 90/100\n",
            "23/23 [==============================] - 4s 189ms/step - loss: 2.2546e-04 - val_loss: 1.5340e-04\n",
            "Epoch 91/100\n",
            "23/23 [==============================] - 4s 193ms/step - loss: 2.6288e-04 - val_loss: 2.4682e-04\n",
            "Epoch 92/100\n",
            "23/23 [==============================] - 4s 185ms/step - loss: 2.4772e-04 - val_loss: 2.0027e-04\n",
            "Epoch 93/100\n",
            "23/23 [==============================] - 4s 189ms/step - loss: 2.1941e-04 - val_loss: 2.3334e-04\n",
            "Epoch 94/100\n",
            "23/23 [==============================] - 4s 187ms/step - loss: 2.3067e-04 - val_loss: 1.8189e-04\n",
            "Epoch 95/100\n",
            "23/23 [==============================] - 4s 190ms/step - loss: 2.5324e-04 - val_loss: 2.0906e-04\n",
            "Epoch 96/100\n",
            "23/23 [==============================] - 4s 190ms/step - loss: 2.0269e-04 - val_loss: 2.7208e-04\n",
            "Epoch 97/100\n",
            "23/23 [==============================] - 4s 188ms/step - loss: 2.0982e-04 - val_loss: 2.0955e-04\n",
            "Epoch 98/100\n",
            "23/23 [==============================] - 4s 192ms/step - loss: 2.0368e-04 - val_loss: 1.8165e-04\n",
            "Epoch 99/100\n",
            "23/23 [==============================] - 4s 188ms/step - loss: 2.5001e-04 - val_loss: 1.5311e-04\n",
            "Epoch 100/100\n",
            "23/23 [==============================] - 4s 192ms/step - loss: 2.3889e-04 - val_loss: 3.0105e-04\n"
          ]
        },
        {
          "output_type": "execute_result",
          "data": {
            "text/plain": [
              "<keras.callbacks.History at 0x7fcc2b823e50>"
            ]
          },
          "metadata": {},
          "execution_count": 21
        }
      ]
    },
    {
      "cell_type": "code",
      "source": [
        "#lets predict and check performance matrices\n",
        "train_predict = model.predict(x_train)\n",
        "test_predict = model.predict(x_test)"
      ],
      "metadata": {
        "id": "bkhNGeTogulj"
      },
      "execution_count": 22,
      "outputs": []
    },
    {
      "cell_type": "code",
      "source": [
        "#transform back to original form\n",
        "train_predict = scaler.inverse_transform(train_predict)\n",
        "test_predict = scaler.inverse_transform(test_predict)"
      ],
      "metadata": {
        "id": "7uN4uZkMg2mO"
      },
      "execution_count": 23,
      "outputs": []
    },
    {
      "cell_type": "code",
      "source": [
        "#calculate RMSE performance matrices\n",
        "import math\n",
        "from sklearn.metrics import mean_squared_error\n",
        "math.sqrt(mean_squared_error(y_train, train_predict))"
      ],
      "metadata": {
        "colab": {
          "base_uri": "https://localhost:8080/"
        },
        "id": "N5xib8mag6GL",
        "outputId": "6670cbb8-7c71-4c7f-e4f3-b1972fc49705"
      },
      "execution_count": 24,
      "outputs": [
        {
          "output_type": "execute_result",
          "data": {
            "text/plain": [
              "166.4302466314532"
            ]
          },
          "metadata": {},
          "execution_count": 24
        }
      ]
    },
    {
      "cell_type": "code",
      "source": [
        "#test data RMSE\n",
        "math.sqrt(mean_squared_error(y_test, test_predict))\n",
        "\n"
      ],
      "metadata": {
        "colab": {
          "base_uri": "https://localhost:8080/"
        },
        "id": "JrIpEVzBg91E",
        "outputId": "cbe93a67-6983-4ef4-ee58-55966cbdafb9"
      },
      "execution_count": 25,
      "outputs": [
        {
          "output_type": "execute_result",
          "data": {
            "text/plain": [
              "107.36251358378173"
            ]
          },
          "metadata": {},
          "execution_count": 25
        }
      ]
    },
    {
      "cell_type": "code",
      "source": [
        "#plotting\n",
        "\n",
        "#Shift train prediction for plotting\n",
        "look_back = 100\n",
        "trainPredictPlot = np.empty_like(data_close)\n",
        "trainPredictPlot[:,:] = np.nan\n",
        "trainPredictPlot[look_back:len(train_predict) + look_back, :]= train_predict\n",
        "\n",
        "#Shift train prediction for plotting\n",
        "testPredictPlot = np.empty_like(data_close)\n",
        "testPredictPlot[:,:] = np.nan\n",
        "testPredictPlot[len(train_predict) + (look_back * 2) + 1:len (data_close) - 1, :]=test_predict\n",
        "\n",
        "#Plot baseline and predictions\n",
        "plt.plot(scaler.inverse_transform(data_close))\n",
        "plt.plot(trainPredictPlot)\n",
        "plt.plot(testPredictPlot)\n",
        "plt.show()"
      ],
      "metadata": {
        "colab": {
          "base_uri": "https://localhost:8080/",
          "height": 265
        },
        "id": "38gL9HeShBAC",
        "outputId": "104a3899-ca88-481b-f7ed-4721fa183c34"
      },
      "execution_count": 26,
      "outputs": [
        {
          "output_type": "display_data",
          "data": {
            "text/plain": [
              "<Figure size 432x288 with 1 Axes>"
            ],
            "image/png": "[encoded data removed]"
          },
          "metadata": {
            "needs_background": "light"
          }
        }
      ]
    },
    {
      "cell_type": "code",
      "source": [
        "\n",
        "\n",
        "len(test_data), x_test.shape\n",
        "\n"
      ],
      "metadata": {
        "colab": {
          "base_uri": "https://localhost:8080/"
        },
        "id": "kJpJQ_qshHJi",
        "outputId": "52e971e4-6378-4bdb-987f-cc2edbf23dae"
      },
      "execution_count": 27,
      "outputs": [
        {
          "output_type": "execute_result",
          "data": {
            "text/plain": [
              "(509, (408, 100, 1))"
            ]
          },
          "metadata": {},
          "execution_count": 27
        }
      ]
    },
    {
      "cell_type": "code",
      "source": [
        "\n",
        "\n",
        "x_input = test_data[409:].reshape(1,-1)\n",
        "x_input.shape\n",
        "\n"
      ],
      "metadata": {
        "colab": {
          "base_uri": "https://localhost:8080/"
        },
        "id": "HaSiEkAFhKqo",
        "outputId": "0eac6b13-8429-4ca1-9bb7-6fbe08904797"
      },
      "execution_count": 28,
      "outputs": [
        {
          "output_type": "execute_result",
          "data": {
            "text/plain": [
              "(1, 100)"
            ]
          },
          "metadata": {},
          "execution_count": 28
        }
      ]
    },
    {
      "cell_type": "code",
      "source": [
        "\n",
        "\n",
        "temp_input = list (x_input)\n",
        "temp_input = temp_input[0].tolist()\n",
        "\n"
      ],
      "metadata": {
        "id": "YnrV-jm_hOsD"
      },
      "execution_count": 29,
      "outputs": []
    },
    {
      "cell_type": "code",
      "source": [
        "\n",
        "\n",
        "first_output =[]\n",
        "n_steps = 100\n",
        "nextNumberOfDays = 30\n",
        "i = 0\n",
        "\n",
        "while (i<nextNumberOfDays):\n",
        "\n",
        "  if(len(temp_input)>100):\n",
        "    x_input = np.array(temp_input[1:])\n",
        "    print(\"{}day input{}\".format(i, x_input))\n",
        "    x_input = x_input.reshape(1,-1)\n",
        "    x_input = x_input.reshape((1, n_steps, 1))\n",
        "    yhat = model.predict(x_input, verbose = 0)\n",
        "    print(\"{} day output {}\".format(i,yhat))\n",
        "    temp_input.extend(yhat[0].tolist())\n",
        "    temp_input = temp_input[1:]\n",
        "    first_output.extend(yhat.tolist())\n",
        "    i=i+1\n",
        "  else:\n",
        "    x_input = x_input.reshape((1, n_steps, 1))\n",
        "    yhat = model.predict(x_input, verbose = 0)\n",
        "    print(yhat[0])\n",
        "    temp_input.extend(yhat[0].tolist())\n",
        "    print(len(temp_input))\n",
        "    first_output.extend(yhat.tolist())\n",
        "    i = i + 1\n",
        "\n",
        "print(first_output)\n",
        "\n"
      ],
      "metadata": {
        "colab": {
          "base_uri": "https://localhost:8080/"
        },
        "id": "GxCm2PCqhRXv",
        "outputId": "bd9b5161-ffef-4e3b-9eb2-34d3986ceed2"
      },
      "execution_count": 30,
      "outputs": [
        {
          "output_type": "stream",
          "name": "stdout",
          "text": [
            "[0.17403388]\n",
            "101\n",
            "1day input[0.13848039 0.14011438 0.13888889 0.13541667 0.14011438 0.1380719\n",
            " 0.13071895 0.13071895 0.12867647 0.11846405 0.14644608 0.14808007\n",
            " 0.15910948 0.15992647 0.15788399 0.16441993 0.17892157 0.17933007\n",
            " 0.19260621 0.20812908 0.18974673 0.18055556 0.18239379 0.17708333\n",
            " 0.17810458 0.18055556 0.17810458 0.17851307 0.19607843 0.18913399\n",
            " 0.18954248 0.19403595 0.19444444 0.20200163 0.19771242 0.19934641\n",
            " 0.19873366 0.1997549  0.2128268  0.21568627 0.20445261 0.21772876\n",
            " 0.21098856 0.21425654 0.19750817 0.18811275 0.17851307 0.17381536\n",
            " 0.16033497 0.16564542 0.17116013 0.17422386 0.18035131 0.17401961\n",
            " 0.16278595 0.16973039 0.17810458 0.17034314 0.16830065 0.17279412\n",
            " 0.17544935 0.18382353 0.19138072 0.18913399 0.19097222 0.17238562\n",
            " 0.16830065 0.1693219  0.17177288 0.16156046 0.14971405 0.1503268\n",
            " 0.15196078 0.14726307 0.14501634 0.14603758 0.12479575 0.13112745\n",
            " 0.11397059 0.1190768  0.12377451 0.13562092 0.12908497 0.13459967\n",
            " 0.12806373 0.13031046 0.12724673 0.13521242 0.14522059 0.15257353\n",
            " 0.14848856 0.14338235 0.14562908 0.15236928 0.15400327 0.14971405\n",
            " 0.1621732  0.16319444 0.16584967 0.17403388]\n",
            "1 day output [[0.17933056]]\n",
            "2day input[0.14011438 0.13888889 0.13541667 0.14011438 0.1380719  0.13071895\n",
            " 0.13071895 0.12867647 0.11846405 0.14644608 0.14808007 0.15910948\n",
            " 0.15992647 0.15788399 0.16441993 0.17892157 0.17933007 0.19260621\n",
            " 0.20812908 0.18974673 0.18055556 0.18239379 0.17708333 0.17810458\n",
            " 0.18055556 0.17810458 0.17851307 0.19607843 0.18913399 0.18954248\n",
            " 0.19403595 0.19444444 0.20200163 0.19771242 0.19934641 0.19873366\n",
            " 0.1997549  0.2128268  0.21568627 0.20445261 0.21772876 0.21098856\n",
            " 0.21425654 0.19750817 0.18811275 0.17851307 0.17381536 0.16033497\n",
            " 0.16564542 0.17116013 0.17422386 0.18035131 0.17401961 0.16278595\n",
            " 0.16973039 0.17810458 0.17034314 0.16830065 0.17279412 0.17544935\n",
            " 0.18382353 0.19138072 0.18913399 0.19097222 0.17238562 0.16830065\n",
            " 0.1693219  0.17177288 0.16156046 0.14971405 0.1503268  0.15196078\n",
            " 0.14726307 0.14501634 0.14603758 0.12479575 0.13112745 0.11397059\n",
            " 0.1190768  0.12377451 0.13562092 0.12908497 0.13459967 0.12806373\n",
            " 0.13031046 0.12724673 0.13521242 0.14522059 0.15257353 0.14848856\n",
            " 0.14338235 0.14562908 0.15236928 0.15400327 0.14971405 0.1621732\n",
            " 0.16319444 0.16584967 0.17403388 0.17933056]\n",
            "2 day output [[0.18520094]]\n",
            "3day input[0.13888889 0.13541667 0.14011438 0.1380719  0.13071895 0.13071895\n",
            " 0.12867647 0.11846405 0.14644608 0.14808007 0.15910948 0.15992647\n",
            " 0.15788399 0.16441993 0.17892157 0.17933007 0.19260621 0.20812908\n",
            " 0.18974673 0.18055556 0.18239379 0.17708333 0.17810458 0.18055556\n",
            " 0.17810458 0.17851307 0.19607843 0.18913399 0.18954248 0.19403595\n",
            " 0.19444444 0.20200163 0.19771242 0.19934641 0.19873366 0.1997549\n",
            " 0.2128268  0.21568627 0.20445261 0.21772876 0.21098856 0.21425654\n",
            " 0.19750817 0.18811275 0.17851307 0.17381536 0.16033497 0.16564542\n",
            " 0.17116013 0.17422386 0.18035131 0.17401961 0.16278595 0.16973039\n",
            " 0.17810458 0.17034314 0.16830065 0.17279412 0.17544935 0.18382353\n",
            " 0.19138072 0.18913399 0.19097222 0.17238562 0.16830065 0.1693219\n",
            " 0.17177288 0.16156046 0.14971405 0.1503268  0.15196078 0.14726307\n",
            " 0.14501634 0.14603758 0.12479575 0.13112745 0.11397059 0.1190768\n",
            " 0.12377451 0.13562092 0.12908497 0.13459967 0.12806373 0.13031046\n",
            " 0.12724673 0.13521242 0.14522059 0.15257353 0.14848856 0.14338235\n",
            " 0.14562908 0.15236928 0.15400327 0.14971405 0.1621732  0.16319444\n",
            " 0.16584967 0.17403388 0.17933056 0.18520094]\n",
            "3 day output [[0.19116409]]\n",
            "4day input[0.13541667 0.14011438 0.1380719  0.13071895 0.13071895 0.12867647\n",
            " 0.11846405 0.14644608 0.14808007 0.15910948 0.15992647 0.15788399\n",
            " 0.16441993 0.17892157 0.17933007 0.19260621 0.20812908 0.18974673\n",
            " 0.18055556 0.18239379 0.17708333 0.17810458 0.18055556 0.17810458\n",
            " 0.17851307 0.19607843 0.18913399 0.18954248 0.19403595 0.19444444\n",
            " 0.20200163 0.19771242 0.19934641 0.19873366 0.1997549  0.2128268\n",
            " 0.21568627 0.20445261 0.21772876 0.21098856 0.21425654 0.19750817\n",
            " 0.18811275 0.17851307 0.17381536 0.16033497 0.16564542 0.17116013\n",
            " 0.17422386 0.18035131 0.17401961 0.16278595 0.16973039 0.17810458\n",
            " 0.17034314 0.16830065 0.17279412 0.17544935 0.18382353 0.19138072\n",
            " 0.18913399 0.19097222 0.17238562 0.16830065 0.1693219  0.17177288\n",
            " 0.16156046 0.14971405 0.1503268  0.15196078 0.14726307 0.14501634\n",
            " 0.14603758 0.12479575 0.13112745 0.11397059 0.1190768  0.12377451\n",
            " 0.13562092 0.12908497 0.13459967 0.12806373 0.13031046 0.12724673\n",
            " 0.13521242 0.14522059 0.15257353 0.14848856 0.14338235 0.14562908\n",
            " 0.15236928 0.15400327 0.14971405 0.1621732  0.16319444 0.16584967\n",
            " 0.17403388 0.17933056 0.18520094 0.19116409]\n",
            "4 day output [[0.19707158]]\n",
            "5day input[0.14011438 0.1380719  0.13071895 0.13071895 0.12867647 0.11846405\n",
            " 0.14644608 0.14808007 0.15910948 0.15992647 0.15788399 0.16441993\n",
            " 0.17892157 0.17933007 0.19260621 0.20812908 0.18974673 0.18055556\n",
            " 0.18239379 0.17708333 0.17810458 0.18055556 0.17810458 0.17851307\n",
            " 0.19607843 0.18913399 0.18954248 0.19403595 0.19444444 0.20200163\n",
            " 0.19771242 0.19934641 0.19873366 0.1997549  0.2128268  0.21568627\n",
            " 0.20445261 0.21772876 0.21098856 0.21425654 0.19750817 0.18811275\n",
            " 0.17851307 0.17381536 0.16033497 0.16564542 0.17116013 0.17422386\n",
            " 0.18035131 0.17401961 0.16278595 0.16973039 0.17810458 0.17034314\n",
            " 0.16830065 0.17279412 0.17544935 0.18382353 0.19138072 0.18913399\n",
            " 0.19097222 0.17238562 0.16830065 0.1693219  0.17177288 0.16156046\n",
            " 0.14971405 0.1503268  0.15196078 0.14726307 0.14501634 0.14603758\n",
            " 0.12479575 0.13112745 0.11397059 0.1190768  0.12377451 0.13562092\n",
            " 0.12908497 0.13459967 0.12806373 0.13031046 0.12724673 0.13521242\n",
            " 0.14522059 0.15257353 0.14848856 0.14338235 0.14562908 0.15236928\n",
            " 0.15400327 0.14971405 0.1621732  0.16319444 0.16584967 0.17403388\n",
            " 0.17933056 0.18520094 0.19116409 0.19707158]\n",
            "5 day output [[0.2028768]]\n",
            "6day input[0.1380719  0.13071895 0.13071895 0.12867647 0.11846405 0.14644608\n",
            " 0.14808007 0.15910948 0.15992647 0.15788399 0.16441993 0.17892157\n",
            " 0.17933007 0.19260621 0.20812908 0.18974673 0.18055556 0.18239379\n",
            " 0.17708333 0.17810458 0.18055556 0.17810458 0.17851307 0.19607843\n",
            " 0.18913399 0.18954248 0.19403595 0.19444444 0.20200163 0.19771242\n",
            " 0.19934641 0.19873366 0.1997549  0.2128268  0.21568627 0.20445261\n",
            " 0.21772876 0.21098856 0.21425654 0.19750817 0.18811275 0.17851307\n",
            " 0.17381536 0.16033497 0.16564542 0.17116013 0.17422386 0.18035131\n",
            " 0.17401961 0.16278595 0.16973039 0.17810458 0.17034314 0.16830065\n",
            " 0.17279412 0.17544935 0.18382353 0.19138072 0.18913399 0.19097222\n",
            " 0.17238562 0.16830065 0.1693219  0.17177288 0.16156046 0.14971405\n",
            " 0.1503268  0.15196078 0.14726307 0.14501634 0.14603758 0.12479575\n",
            " 0.13112745 0.11397059 0.1190768  0.12377451 0.13562092 0.12908497\n",
            " 0.13459967 0.12806373 0.13031046 0.12724673 0.13521242 0.14522059\n",
            " 0.15257353 0.14848856 0.14338235 0.14562908 0.15236928 0.15400327\n",
            " 0.14971405 0.1621732  0.16319444 0.16584967 0.17403388 0.17933056\n",
            " 0.18520094 0.19116409 0.19707158 0.20287681]\n",
            "6 day output [[0.20856857]]\n",
            "7day input[0.13071895 0.13071895 0.12867647 0.11846405 0.14644608 0.14808007\n",
            " 0.15910948 0.15992647 0.15788399 0.16441993 0.17892157 0.17933007\n",
            " 0.19260621 0.20812908 0.18974673 0.18055556 0.18239379 0.17708333\n",
            " 0.17810458 0.18055556 0.17810458 0.17851307 0.19607843 0.18913399\n",
            " 0.18954248 0.19403595 0.19444444 0.20200163 0.19771242 0.19934641\n",
            " 0.19873366 0.1997549  0.2128268  0.21568627 0.20445261 0.21772876\n",
            " 0.21098856 0.21425654 0.19750817 0.18811275 0.17851307 0.17381536\n",
            " 0.16033497 0.16564542 0.17116013 0.17422386 0.18035131 0.17401961\n",
            " 0.16278595 0.16973039 0.17810458 0.17034314 0.16830065 0.17279412\n",
            " 0.17544935 0.18382353 0.19138072 0.18913399 0.19097222 0.17238562\n",
            " 0.16830065 0.1693219  0.17177288 0.16156046 0.14971405 0.1503268\n",
            " 0.15196078 0.14726307 0.14501634 0.14603758 0.12479575 0.13112745\n",
            " 0.11397059 0.1190768  0.12377451 0.13562092 0.12908497 0.13459967\n",
            " 0.12806373 0.13031046 0.12724673 0.13521242 0.14522059 0.15257353\n",
            " 0.14848856 0.14338235 0.14562908 0.15236928 0.15400327 0.14971405\n",
            " 0.1621732  0.16319444 0.16584967 0.17403388 0.17933056 0.18520094\n",
            " 0.19116409 0.19707158 0.20287681 0.20856857]\n",
            "7 day output [[0.21415538]]\n",
            "8day input[0.13071895 0.12867647 0.11846405 0.14644608 0.14808007 0.15910948\n",
            " 0.15992647 0.15788399 0.16441993 0.17892157 0.17933007 0.19260621\n",
            " 0.20812908 0.18974673 0.18055556 0.18239379 0.17708333 0.17810458\n",
            " 0.18055556 0.17810458 0.17851307 0.19607843 0.18913399 0.18954248\n",
            " 0.19403595 0.19444444 0.20200163 0.19771242 0.19934641 0.19873366\n",
            " 0.1997549  0.2128268  0.21568627 0.20445261 0.21772876 0.21098856\n",
            " 0.21425654 0.19750817 0.18811275 0.17851307 0.17381536 0.16033497\n",
            " 0.16564542 0.17116013 0.17422386 0.18035131 0.17401961 0.16278595\n",
            " 0.16973039 0.17810458 0.17034314 0.16830065 0.17279412 0.17544935\n",
            " 0.18382353 0.19138072 0.18913399 0.19097222 0.17238562 0.16830065\n",
            " 0.1693219  0.17177288 0.16156046 0.14971405 0.1503268  0.15196078\n",
            " 0.14726307 0.14501634 0.14603758 0.12479575 0.13112745 0.11397059\n",
            " 0.1190768  0.12377451 0.13562092 0.12908497 0.13459967 0.12806373\n",
            " 0.13031046 0.12724673 0.13521242 0.14522059 0.15257353 0.14848856\n",
            " 0.14338235 0.14562908 0.15236928 0.15400327 0.14971405 0.1621732\n",
            " 0.16319444 0.16584967 0.17403388 0.17933056 0.18520094 0.19116409\n",
            " 0.19707158 0.20287681 0.20856857 0.21415538]\n",
            "8 day output [[0.21965832]]\n",
            "9day input[0.12867647 0.11846405 0.14644608 0.14808007 0.15910948 0.15992647\n",
            " 0.15788399 0.16441993 0.17892157 0.17933007 0.19260621 0.20812908\n",
            " 0.18974673 0.18055556 0.18239379 0.17708333 0.17810458 0.18055556\n",
            " 0.17810458 0.17851307 0.19607843 0.18913399 0.18954248 0.19403595\n",
            " 0.19444444 0.20200163 0.19771242 0.19934641 0.19873366 0.1997549\n",
            " 0.2128268  0.21568627 0.20445261 0.21772876 0.21098856 0.21425654\n",
            " 0.19750817 0.18811275 0.17851307 0.17381536 0.16033497 0.16564542\n",
            " 0.17116013 0.17422386 0.18035131 0.17401961 0.16278595 0.16973039\n",
            " 0.17810458 0.17034314 0.16830065 0.17279412 0.17544935 0.18382353\n",
            " 0.19138072 0.18913399 0.19097222 0.17238562 0.16830065 0.1693219\n",
            " 0.17177288 0.16156046 0.14971405 0.1503268  0.15196078 0.14726307\n",
            " 0.14501634 0.14603758 0.12479575 0.13112745 0.11397059 0.1190768\n",
            " 0.12377451 0.13562092 0.12908497 0.13459967 0.12806373 0.13031046\n",
            " 0.12724673 0.13521242 0.14522059 0.15257353 0.14848856 0.14338235\n",
            " 0.14562908 0.15236928 0.15400327 0.14971405 0.1621732  0.16319444\n",
            " 0.16584967 0.17403388 0.17933056 0.18520094 0.19116409 0.19707158\n",
            " 0.20287681 0.20856857 0.21415538 0.21965832]\n",
            "9 day output [[0.22510491]]\n",
            "10day input[0.11846405 0.14644608 0.14808007 0.15910948 0.15992647 0.15788399\n",
            " 0.16441993 0.17892157 0.17933007 0.19260621 0.20812908 0.18974673\n",
            " 0.18055556 0.18239379 0.17708333 0.17810458 0.18055556 0.17810458\n",
            " 0.17851307 0.19607843 0.18913399 0.18954248 0.19403595 0.19444444\n",
            " 0.20200163 0.19771242 0.19934641 0.19873366 0.1997549  0.2128268\n",
            " 0.21568627 0.20445261 0.21772876 0.21098856 0.21425654 0.19750817\n",
            " 0.18811275 0.17851307 0.17381536 0.16033497 0.16564542 0.17116013\n",
            " 0.17422386 0.18035131 0.17401961 0.16278595 0.16973039 0.17810458\n",
            " 0.17034314 0.16830065 0.17279412 0.17544935 0.18382353 0.19138072\n",
            " 0.18913399 0.19097222 0.17238562 0.16830065 0.1693219  0.17177288\n",
            " 0.16156046 0.14971405 0.1503268  0.15196078 0.14726307 0.14501634\n",
            " 0.14603758 0.12479575 0.13112745 0.11397059 0.1190768  0.12377451\n",
            " 0.13562092 0.12908497 0.13459967 0.12806373 0.13031046 0.12724673\n",
            " 0.13521242 0.14522059 0.15257353 0.14848856 0.14338235 0.14562908\n",
            " 0.15236928 0.15400327 0.14971405 0.1621732  0.16319444 0.16584967\n",
            " 0.17403388 0.17933056 0.18520094 0.19116409 0.19707158 0.20287681\n",
            " 0.20856857 0.21415538 0.21965832 0.22510491]\n",
            "10 day output [[0.23052427]]\n",
            "11day input[0.14644608 0.14808007 0.15910948 0.15992647 0.15788399 0.16441993\n",
            " 0.17892157 0.17933007 0.19260621 0.20812908 0.18974673 0.18055556\n",
            " 0.18239379 0.17708333 0.17810458 0.18055556 0.17810458 0.17851307\n",
            " 0.19607843 0.18913399 0.18954248 0.19403595 0.19444444 0.20200163\n",
            " 0.19771242 0.19934641 0.19873366 0.1997549  0.2128268  0.21568627\n",
            " 0.20445261 0.21772876 0.21098856 0.21425654 0.19750817 0.18811275\n",
            " 0.17851307 0.17381536 0.16033497 0.16564542 0.17116013 0.17422386\n",
            " 0.18035131 0.17401961 0.16278595 0.16973039 0.17810458 0.17034314\n",
            " 0.16830065 0.17279412 0.17544935 0.18382353 0.19138072 0.18913399\n",
            " 0.19097222 0.17238562 0.16830065 0.1693219  0.17177288 0.16156046\n",
            " 0.14971405 0.1503268  0.15196078 0.14726307 0.14501634 0.14603758\n",
            " 0.12479575 0.13112745 0.11397059 0.1190768  0.12377451 0.13562092\n",
            " 0.12908497 0.13459967 0.12806373 0.13031046 0.12724673 0.13521242\n",
            " 0.14522059 0.15257353 0.14848856 0.14338235 0.14562908 0.15236928\n",
            " 0.15400327 0.14971405 0.1621732  0.16319444 0.16584967 0.17403388\n",
            " 0.17933056 0.18520094 0.19116409 0.19707158 0.20287681 0.20856857\n",
            " 0.21415538 0.21965832 0.22510491 0.23052427]\n",
            "11 day output [[0.23594294]]\n",
            "12day input[0.14808007 0.15910948 0.15992647 0.15788399 0.16441993 0.17892157\n",
            " 0.17933007 0.19260621 0.20812908 0.18974673 0.18055556 0.18239379\n",
            " 0.17708333 0.17810458 0.18055556 0.17810458 0.17851307 0.19607843\n",
            " 0.18913399 0.18954248 0.19403595 0.19444444 0.20200163 0.19771242\n",
            " 0.19934641 0.19873366 0.1997549  0.2128268  0.21568627 0.20445261\n",
            " 0.21772876 0.21098856 0.21425654 0.19750817 0.18811275 0.17851307\n",
            " 0.17381536 0.16033497 0.16564542 0.17116013 0.17422386 0.18035131\n",
            " 0.17401961 0.16278595 0.16973039 0.17810458 0.17034314 0.16830065\n",
            " 0.17279412 0.17544935 0.18382353 0.19138072 0.18913399 0.19097222\n",
            " 0.17238562 0.16830065 0.1693219  0.17177288 0.16156046 0.14971405\n",
            " 0.1503268  0.15196078 0.14726307 0.14501634 0.14603758 0.12479575\n",
            " 0.13112745 0.11397059 0.1190768  0.12377451 0.13562092 0.12908497\n",
            " 0.13459967 0.12806373 0.13031046 0.12724673 0.13521242 0.14522059\n",
            " 0.15257353 0.14848856 0.14338235 0.14562908 0.15236928 0.15400327\n",
            " 0.14971405 0.1621732  0.16319444 0.16584967 0.17403388 0.17933056\n",
            " 0.18520094 0.19116409 0.19707158 0.20287681 0.20856857 0.21415538\n",
            " 0.21965832 0.22510491 0.23052427 0.23594294]\n",
            "12 day output [[0.2413833]]\n",
            "13day input[0.15910948 0.15992647 0.15788399 0.16441993 0.17892157 0.17933007\n",
            " 0.19260621 0.20812908 0.18974673 0.18055556 0.18239379 0.17708333\n",
            " 0.17810458 0.18055556 0.17810458 0.17851307 0.19607843 0.18913399\n",
            " 0.18954248 0.19403595 0.19444444 0.20200163 0.19771242 0.19934641\n",
            " 0.19873366 0.1997549  0.2128268  0.21568627 0.20445261 0.21772876\n",
            " 0.21098856 0.21425654 0.19750817 0.18811275 0.17851307 0.17381536\n",
            " 0.16033497 0.16564542 0.17116013 0.17422386 0.18035131 0.17401961\n",
            " 0.16278595 0.16973039 0.17810458 0.17034314 0.16830065 0.17279412\n",
            " 0.17544935 0.18382353 0.19138072 0.18913399 0.19097222 0.17238562\n",
            " 0.16830065 0.1693219  0.17177288 0.16156046 0.14971405 0.1503268\n",
            " 0.15196078 0.14726307 0.14501634 0.14603758 0.12479575 0.13112745\n",
            " 0.11397059 0.1190768  0.12377451 0.13562092 0.12908497 0.13459967\n",
            " 0.12806373 0.13031046 0.12724673 0.13521242 0.14522059 0.15257353\n",
            " 0.14848856 0.14338235 0.14562908 0.15236928 0.15400327 0.14971405\n",
            " 0.1621732  0.16319444 0.16584967 0.17403388 0.17933056 0.18520094\n",
            " 0.19116409 0.19707158 0.20287681 0.20856857 0.21415538 0.21965832\n",
            " 0.22510491 0.23052427 0.23594294 0.2413833 ]\n",
            "13 day output [[0.24686225]]\n",
            "14day input[0.15992647 0.15788399 0.16441993 0.17892157 0.17933007 0.19260621\n",
            " 0.20812908 0.18974673 0.18055556 0.18239379 0.17708333 0.17810458\n",
            " 0.18055556 0.17810458 0.17851307 0.19607843 0.18913399 0.18954248\n",
            " 0.19403595 0.19444444 0.20200163 0.19771242 0.19934641 0.19873366\n",
            " 0.1997549  0.2128268  0.21568627 0.20445261 0.21772876 0.21098856\n",
            " 0.21425654 0.19750817 0.18811275 0.17851307 0.17381536 0.16033497\n",
            " 0.16564542 0.17116013 0.17422386 0.18035131 0.17401961 0.16278595\n",
            " 0.16973039 0.17810458 0.17034314 0.16830065 0.17279412 0.17544935\n",
            " 0.18382353 0.19138072 0.18913399 0.19097222 0.17238562 0.16830065\n",
            " 0.1693219  0.17177288 0.16156046 0.14971405 0.1503268  0.15196078\n",
            " 0.14726307 0.14501634 0.14603758 0.12479575 0.13112745 0.11397059\n",
            " 0.1190768  0.12377451 0.13562092 0.12908497 0.13459967 0.12806373\n",
            " 0.13031046 0.12724673 0.13521242 0.14522059 0.15257353 0.14848856\n",
            " 0.14338235 0.14562908 0.15236928 0.15400327 0.14971405 0.1621732\n",
            " 0.16319444 0.16584967 0.17403388 0.17933056 0.18520094 0.19116409\n",
            " 0.19707158 0.20287681 0.20856857 0.21415538 0.21965832 0.22510491\n",
            " 0.23052427 0.23594294 0.2413833  0.24686225]\n",
            "14 day output [[0.25239152]]\n",
            "15day input[0.15788399 0.16441993 0.17892157 0.17933007 0.19260621 0.20812908\n",
            " 0.18974673 0.18055556 0.18239379 0.17708333 0.17810458 0.18055556\n",
            " 0.17810458 0.17851307 0.19607843 0.18913399 0.18954248 0.19403595\n",
            " 0.19444444 0.20200163 0.19771242 0.19934641 0.19873366 0.1997549\n",
            " 0.2128268  0.21568627 0.20445261 0.21772876 0.21098856 0.21425654\n",
            " 0.19750817 0.18811275 0.17851307 0.17381536 0.16033497 0.16564542\n",
            " 0.17116013 0.17422386 0.18035131 0.17401961 0.16278595 0.16973039\n",
            " 0.17810458 0.17034314 0.16830065 0.17279412 0.17544935 0.18382353\n",
            " 0.19138072 0.18913399 0.19097222 0.17238562 0.16830065 0.1693219\n",
            " 0.17177288 0.16156046 0.14971405 0.1503268  0.15196078 0.14726307\n",
            " 0.14501634 0.14603758 0.12479575 0.13112745 0.11397059 0.1190768\n",
            " 0.12377451 0.13562092 0.12908497 0.13459967 0.12806373 0.13031046\n",
            " 0.12724673 0.13521242 0.14522059 0.15257353 0.14848856 0.14338235\n",
            " 0.14562908 0.15236928 0.15400327 0.14971405 0.1621732  0.16319444\n",
            " 0.16584967 0.17403388 0.17933056 0.18520094 0.19116409 0.19707158\n",
            " 0.20287681 0.20856857 0.21415538 0.21965832 0.22510491 0.23052427\n",
            " 0.23594294 0.2413833  0.24686225 0.25239152]\n",
            "15 day output [[0.2579781]]\n",
            "16day input[0.16441993 0.17892157 0.17933007 0.19260621 0.20812908 0.18974673\n",
            " 0.18055556 0.18239379 0.17708333 0.17810458 0.18055556 0.17810458\n",
            " 0.17851307 0.19607843 0.18913399 0.18954248 0.19403595 0.19444444\n",
            " 0.20200163 0.19771242 0.19934641 0.19873366 0.1997549  0.2128268\n",
            " 0.21568627 0.20445261 0.21772876 0.21098856 0.21425654 0.19750817\n",
            " 0.18811275 0.17851307 0.17381536 0.16033497 0.16564542 0.17116013\n",
            " 0.17422386 0.18035131 0.17401961 0.16278595 0.16973039 0.17810458\n",
            " 0.17034314 0.16830065 0.17279412 0.17544935 0.18382353 0.19138072\n",
            " 0.18913399 0.19097222 0.17238562 0.16830065 0.1693219  0.17177288\n",
            " 0.16156046 0.14971405 0.1503268  0.15196078 0.14726307 0.14501634\n",
            " 0.14603758 0.12479575 0.13112745 0.11397059 0.1190768  0.12377451\n",
            " 0.13562092 0.12908497 0.13459967 0.12806373 0.13031046 0.12724673\n",
            " 0.13521242 0.14522059 0.15257353 0.14848856 0.14338235 0.14562908\n",
            " 0.15236928 0.15400327 0.14971405 0.1621732  0.16319444 0.16584967\n",
            " 0.17403388 0.17933056 0.18520094 0.19116409 0.19707158 0.20287681\n",
            " 0.20856857 0.21415538 0.21965832 0.22510491 0.23052427 0.23594294\n",
            " 0.2413833  0.24686225 0.25239152 0.25797811]\n",
            "16 day output [[0.26362586]]\n",
            "17day input[0.17892157 0.17933007 0.19260621 0.20812908 0.18974673 0.18055556\n",
            " 0.18239379 0.17708333 0.17810458 0.18055556 0.17810458 0.17851307\n",
            " 0.19607843 0.18913399 0.18954248 0.19403595 0.19444444 0.20200163\n",
            " 0.19771242 0.19934641 0.19873366 0.1997549  0.2128268  0.21568627\n",
            " 0.20445261 0.21772876 0.21098856 0.21425654 0.19750817 0.18811275\n",
            " 0.17851307 0.17381536 0.16033497 0.16564542 0.17116013 0.17422386\n",
            " 0.18035131 0.17401961 0.16278595 0.16973039 0.17810458 0.17034314\n",
            " 0.16830065 0.17279412 0.17544935 0.18382353 0.19138072 0.18913399\n",
            " 0.19097222 0.17238562 0.16830065 0.1693219  0.17177288 0.16156046\n",
            " 0.14971405 0.1503268  0.15196078 0.14726307 0.14501634 0.14603758\n",
            " 0.12479575 0.13112745 0.11397059 0.1190768  0.12377451 0.13562092\n",
            " 0.12908497 0.13459967 0.12806373 0.13031046 0.12724673 0.13521242\n",
            " 0.14522059 0.15257353 0.14848856 0.14338235 0.14562908 0.15236928\n",
            " 0.15400327 0.14971405 0.1621732  0.16319444 0.16584967 0.17403388\n",
            " 0.17933056 0.18520094 0.19116409 0.19707158 0.20287681 0.20856857\n",
            " 0.21415538 0.21965832 0.22510491 0.23052427 0.23594294 0.2413833\n",
            " 0.24686225 0.25239152 0.25797811 0.26362586]\n",
            "17 day output [[0.26933622]]\n",
            "18day input[0.17933007 0.19260621 0.20812908 0.18974673 0.18055556 0.18239379\n",
            " 0.17708333 0.17810458 0.18055556 0.17810458 0.17851307 0.19607843\n",
            " 0.18913399 0.18954248 0.19403595 0.19444444 0.20200163 0.19771242\n",
            " 0.19934641 0.19873366 0.1997549  0.2128268  0.21568627 0.20445261\n",
            " 0.21772876 0.21098856 0.21425654 0.19750817 0.18811275 0.17851307\n",
            " 0.17381536 0.16033497 0.16564542 0.17116013 0.17422386 0.18035131\n",
            " 0.17401961 0.16278595 0.16973039 0.17810458 0.17034314 0.16830065\n",
            " 0.17279412 0.17544935 0.18382353 0.19138072 0.18913399 0.19097222\n",
            " 0.17238562 0.16830065 0.1693219  0.17177288 0.16156046 0.14971405\n",
            " 0.1503268  0.15196078 0.14726307 0.14501634 0.14603758 0.12479575\n",
            " 0.13112745 0.11397059 0.1190768  0.12377451 0.13562092 0.12908497\n",
            " 0.13459967 0.12806373 0.13031046 0.12724673 0.13521242 0.14522059\n",
            " 0.15257353 0.14848856 0.14338235 0.14562908 0.15236928 0.15400327\n",
            " 0.14971405 0.1621732  0.16319444 0.16584967 0.17403388 0.17933056\n",
            " 0.18520094 0.19116409 0.19707158 0.20287681 0.20856857 0.21415538\n",
            " 0.21965832 0.22510491 0.23052427 0.23594294 0.2413833  0.24686225\n",
            " 0.25239152 0.25797811 0.26362586 0.26933622]\n",
            "18 day output [[0.27510992]]\n",
            "19day input[0.19260621 0.20812908 0.18974673 0.18055556 0.18239379 0.17708333\n",
            " 0.17810458 0.18055556 0.17810458 0.17851307 0.19607843 0.18913399\n",
            " 0.18954248 0.19403595 0.19444444 0.20200163 0.19771242 0.19934641\n",
            " 0.19873366 0.1997549  0.2128268  0.21568627 0.20445261 0.21772876\n",
            " 0.21098856 0.21425654 0.19750817 0.18811275 0.17851307 0.17381536\n",
            " 0.16033497 0.16564542 0.17116013 0.17422386 0.18035131 0.17401961\n",
            " 0.16278595 0.16973039 0.17810458 0.17034314 0.16830065 0.17279412\n",
            " 0.17544935 0.18382353 0.19138072 0.18913399 0.19097222 0.17238562\n",
            " 0.16830065 0.1693219  0.17177288 0.16156046 0.14971405 0.1503268\n",
            " 0.15196078 0.14726307 0.14501634 0.14603758 0.12479575 0.13112745\n",
            " 0.11397059 0.1190768  0.12377451 0.13562092 0.12908497 0.13459967\n",
            " 0.12806373 0.13031046 0.12724673 0.13521242 0.14522059 0.15257353\n",
            " 0.14848856 0.14338235 0.14562908 0.15236928 0.15400327 0.14971405\n",
            " 0.1621732  0.16319444 0.16584967 0.17403388 0.17933056 0.18520094\n",
            " 0.19116409 0.19707158 0.20287681 0.20856857 0.21415538 0.21965832\n",
            " 0.22510491 0.23052427 0.23594294 0.2413833  0.24686225 0.25239152\n",
            " 0.25797811 0.26362586 0.26933622 0.27510992]\n",
            "19 day output [[0.28094715]]\n",
            "20day input[0.20812908 0.18974673 0.18055556 0.18239379 0.17708333 0.17810458\n",
            " 0.18055556 0.17810458 0.17851307 0.19607843 0.18913399 0.18954248\n",
            " 0.19403595 0.19444444 0.20200163 0.19771242 0.19934641 0.19873366\n",
            " 0.1997549  0.2128268  0.21568627 0.20445261 0.21772876 0.21098856\n",
            " 0.21425654 0.19750817 0.18811275 0.17851307 0.17381536 0.16033497\n",
            " 0.16564542 0.17116013 0.17422386 0.18035131 0.17401961 0.16278595\n",
            " 0.16973039 0.17810458 0.17034314 0.16830065 0.17279412 0.17544935\n",
            " 0.18382353 0.19138072 0.18913399 0.19097222 0.17238562 0.16830065\n",
            " 0.1693219  0.17177288 0.16156046 0.14971405 0.1503268  0.15196078\n",
            " 0.14726307 0.14501634 0.14603758 0.12479575 0.13112745 0.11397059\n",
            " 0.1190768  0.12377451 0.13562092 0.12908497 0.13459967 0.12806373\n",
            " 0.13031046 0.12724673 0.13521242 0.14522059 0.15257353 0.14848856\n",
            " 0.14338235 0.14562908 0.15236928 0.15400327 0.14971405 0.1621732\n",
            " 0.16319444 0.16584967 0.17403388 0.17933056 0.18520094 0.19116409\n",
            " 0.19707158 0.20287681 0.20856857 0.21415538 0.21965832 0.22510491\n",
            " 0.23052427 0.23594294 0.2413833  0.24686225 0.25239152 0.25797811\n",
            " 0.26362586 0.26933622 0.27510992 0.28094715]\n",
            "20 day output [[0.28684905]]\n",
            "21day input[0.18974673 0.18055556 0.18239379 0.17708333 0.17810458 0.18055556\n",
            " 0.17810458 0.17851307 0.19607843 0.18913399 0.18954248 0.19403595\n",
            " 0.19444444 0.20200163 0.19771242 0.19934641 0.19873366 0.1997549\n",
            " 0.2128268  0.21568627 0.20445261 0.21772876 0.21098856 0.21425654\n",
            " 0.19750817 0.18811275 0.17851307 0.17381536 0.16033497 0.16564542\n",
            " 0.17116013 0.17422386 0.18035131 0.17401961 0.16278595 0.16973039\n",
            " 0.17810458 0.17034314 0.16830065 0.17279412 0.17544935 0.18382353\n",
            " 0.19138072 0.18913399 0.19097222 0.17238562 0.16830065 0.1693219\n",
            " 0.17177288 0.16156046 0.14971405 0.1503268  0.15196078 0.14726307\n",
            " 0.14501634 0.14603758 0.12479575 0.13112745 0.11397059 0.1190768\n",
            " 0.12377451 0.13562092 0.12908497 0.13459967 0.12806373 0.13031046\n",
            " 0.12724673 0.13521242 0.14522059 0.15257353 0.14848856 0.14338235\n",
            " 0.14562908 0.15236928 0.15400327 0.14971405 0.1621732  0.16319444\n",
            " 0.16584967 0.17403388 0.17933056 0.18520094 0.19116409 0.19707158\n",
            " 0.20287681 0.20856857 0.21415538 0.21965832 0.22510491 0.23052427\n",
            " 0.23594294 0.2413833  0.24686225 0.25239152 0.25797811 0.26362586\n",
            " 0.26933622 0.27510992 0.28094715 0.28684905]\n",
            "21 day output [[0.29281747]]\n",
            "22day input[0.18055556 0.18239379 0.17708333 0.17810458 0.18055556 0.17810458\n",
            " 0.17851307 0.19607843 0.18913399 0.18954248 0.19403595 0.19444444\n",
            " 0.20200163 0.19771242 0.19934641 0.19873366 0.1997549  0.2128268\n",
            " 0.21568627 0.20445261 0.21772876 0.21098856 0.21425654 0.19750817\n",
            " 0.18811275 0.17851307 0.17381536 0.16033497 0.16564542 0.17116013\n",
            " 0.17422386 0.18035131 0.17401961 0.16278595 0.16973039 0.17810458\n",
            " 0.17034314 0.16830065 0.17279412 0.17544935 0.18382353 0.19138072\n",
            " 0.18913399 0.19097222 0.17238562 0.16830065 0.1693219  0.17177288\n",
            " 0.16156046 0.14971405 0.1503268  0.15196078 0.14726307 0.14501634\n",
            " 0.14603758 0.12479575 0.13112745 0.11397059 0.1190768  0.12377451\n",
            " 0.13562092 0.12908497 0.13459967 0.12806373 0.13031046 0.12724673\n",
            " 0.13521242 0.14522059 0.15257353 0.14848856 0.14338235 0.14562908\n",
            " 0.15236928 0.15400327 0.14971405 0.1621732  0.16319444 0.16584967\n",
            " 0.17403388 0.17933056 0.18520094 0.19116409 0.19707158 0.20287681\n",
            " 0.20856857 0.21415538 0.21965832 0.22510491 0.23052427 0.23594294\n",
            " 0.2413833  0.24686225 0.25239152 0.25797811 0.26362586 0.26933622\n",
            " 0.27510992 0.28094715 0.28684905 0.29281747]\n",
            "22 day output [[0.29885557]]\n",
            "23day input[0.18239379 0.17708333 0.17810458 0.18055556 0.17810458 0.17851307\n",
            " 0.19607843 0.18913399 0.18954248 0.19403595 0.19444444 0.20200163\n",
            " 0.19771242 0.19934641 0.19873366 0.1997549  0.2128268  0.21568627\n",
            " 0.20445261 0.21772876 0.21098856 0.21425654 0.19750817 0.18811275\n",
            " 0.17851307 0.17381536 0.16033497 0.16564542 0.17116013 0.17422386\n",
            " 0.18035131 0.17401961 0.16278595 0.16973039 0.17810458 0.17034314\n",
            " 0.16830065 0.17279412 0.17544935 0.18382353 0.19138072 0.18913399\n",
            " 0.19097222 0.17238562 0.16830065 0.1693219  0.17177288 0.16156046\n",
            " 0.14971405 0.1503268  0.15196078 0.14726307 0.14501634 0.14603758\n",
            " 0.12479575 0.13112745 0.11397059 0.1190768  0.12377451 0.13562092\n",
            " 0.12908497 0.13459967 0.12806373 0.13031046 0.12724673 0.13521242\n",
            " 0.14522059 0.15257353 0.14848856 0.14338235 0.14562908 0.15236928\n",
            " 0.15400327 0.14971405 0.1621732  0.16319444 0.16584967 0.17403388\n",
            " 0.17933056 0.18520094 0.19116409 0.19707158 0.20287681 0.20856857\n",
            " 0.21415538 0.21965832 0.22510491 0.23052427 0.23594294 0.2413833\n",
            " 0.24686225 0.25239152 0.25797811 0.26362586 0.26933622 0.27510992\n",
            " 0.28094715 0.28684905 0.29281747 0.29885557]\n",
            "23 day output [[0.30496743]]\n",
            "24day input[0.17708333 0.17810458 0.18055556 0.17810458 0.17851307 0.19607843\n",
            " 0.18913399 0.18954248 0.19403595 0.19444444 0.20200163 0.19771242\n",
            " 0.19934641 0.19873366 0.1997549  0.2128268  0.21568627 0.20445261\n",
            " 0.21772876 0.21098856 0.21425654 0.19750817 0.18811275 0.17851307\n",
            " 0.17381536 0.16033497 0.16564542 0.17116013 0.17422386 0.18035131\n",
            " 0.17401961 0.16278595 0.16973039 0.17810458 0.17034314 0.16830065\n",
            " 0.17279412 0.17544935 0.18382353 0.19138072 0.18913399 0.19097222\n",
            " 0.17238562 0.16830065 0.1693219  0.17177288 0.16156046 0.14971405\n",
            " 0.1503268  0.15196078 0.14726307 0.14501634 0.14603758 0.12479575\n",
            " 0.13112745 0.11397059 0.1190768  0.12377451 0.13562092 0.12908497\n",
            " 0.13459967 0.12806373 0.13031046 0.12724673 0.13521242 0.14522059\n",
            " 0.15257353 0.14848856 0.14338235 0.14562908 0.15236928 0.15400327\n",
            " 0.14971405 0.1621732  0.16319444 0.16584967 0.17403388 0.17933056\n",
            " 0.18520094 0.19116409 0.19707158 0.20287681 0.20856857 0.21415538\n",
            " 0.21965832 0.22510491 0.23052427 0.23594294 0.2413833  0.24686225\n",
            " 0.25239152 0.25797811 0.26362586 0.26933622 0.27510992 0.28094715\n",
            " 0.28684905 0.29281747 0.29885557 0.30496743]\n",
            "24 day output [[0.31115803]]\n",
            "25day input[0.17810458 0.18055556 0.17810458 0.17851307 0.19607843 0.18913399\n",
            " 0.18954248 0.19403595 0.19444444 0.20200163 0.19771242 0.19934641\n",
            " 0.19873366 0.1997549  0.2128268  0.21568627 0.20445261 0.21772876\n",
            " 0.21098856 0.21425654 0.19750817 0.18811275 0.17851307 0.17381536\n",
            " 0.16033497 0.16564542 0.17116013 0.17422386 0.18035131 0.17401961\n",
            " 0.16278595 0.16973039 0.17810458 0.17034314 0.16830065 0.17279412\n",
            " 0.17544935 0.18382353 0.19138072 0.18913399 0.19097222 0.17238562\n",
            " 0.16830065 0.1693219  0.17177288 0.16156046 0.14971405 0.1503268\n",
            " 0.15196078 0.14726307 0.14501634 0.14603758 0.12479575 0.13112745\n",
            " 0.11397059 0.1190768  0.12377451 0.13562092 0.12908497 0.13459967\n",
            " 0.12806373 0.13031046 0.12724673 0.13521242 0.14522059 0.15257353\n",
            " 0.14848856 0.14338235 0.14562908 0.15236928 0.15400327 0.14971405\n",
            " 0.1621732  0.16319444 0.16584967 0.17403388 0.17933056 0.18520094\n",
            " 0.19116409 0.19707158 0.20287681 0.20856857 0.21415538 0.21965832\n",
            " 0.22510491 0.23052427 0.23594294 0.2413833  0.24686225 0.25239152\n",
            " 0.25797811 0.26362586 0.26933622 0.27510992 0.28094715 0.28684905\n",
            " 0.29281747 0.29885557 0.30496743 0.31115803]\n",
            "25 day output [[0.31743327]]\n",
            "26day input[0.18055556 0.17810458 0.17851307 0.19607843 0.18913399 0.18954248\n",
            " 0.19403595 0.19444444 0.20200163 0.19771242 0.19934641 0.19873366\n",
            " 0.1997549  0.2128268  0.21568627 0.20445261 0.21772876 0.21098856\n",
            " 0.21425654 0.19750817 0.18811275 0.17851307 0.17381536 0.16033497\n",
            " 0.16564542 0.17116013 0.17422386 0.18035131 0.17401961 0.16278595\n",
            " 0.16973039 0.17810458 0.17034314 0.16830065 0.17279412 0.17544935\n",
            " 0.18382353 0.19138072 0.18913399 0.19097222 0.17238562 0.16830065\n",
            " 0.1693219  0.17177288 0.16156046 0.14971405 0.1503268  0.15196078\n",
            " 0.14726307 0.14501634 0.14603758 0.12479575 0.13112745 0.11397059\n",
            " 0.1190768  0.12377451 0.13562092 0.12908497 0.13459967 0.12806373\n",
            " 0.13031046 0.12724673 0.13521242 0.14522059 0.15257353 0.14848856\n",
            " 0.14338235 0.14562908 0.15236928 0.15400327 0.14971405 0.1621732\n",
            " 0.16319444 0.16584967 0.17403388 0.17933056 0.18520094 0.19116409\n",
            " 0.19707158 0.20287681 0.20856857 0.21415538 0.21965832 0.22510491\n",
            " 0.23052427 0.23594294 0.2413833  0.24686225 0.25239152 0.25797811\n",
            " 0.26362586 0.26933622 0.27510992 0.28094715 0.28684905 0.29281747\n",
            " 0.29885557 0.30496743 0.31115803 0.31743327]\n",
            "26 day output [[0.32379925]]\n",
            "27day input[0.17810458 0.17851307 0.19607843 0.18913399 0.18954248 0.19403595\n",
            " 0.19444444 0.20200163 0.19771242 0.19934641 0.19873366 0.1997549\n",
            " 0.2128268  0.21568627 0.20445261 0.21772876 0.21098856 0.21425654\n",
            " 0.19750817 0.18811275 0.17851307 0.17381536 0.16033497 0.16564542\n",
            " 0.17116013 0.17422386 0.18035131 0.17401961 0.16278595 0.16973039\n",
            " 0.17810458 0.17034314 0.16830065 0.17279412 0.17544935 0.18382353\n",
            " 0.19138072 0.18913399 0.19097222 0.17238562 0.16830065 0.1693219\n",
            " 0.17177288 0.16156046 0.14971405 0.1503268  0.15196078 0.14726307\n",
            " 0.14501634 0.14603758 0.12479575 0.13112745 0.11397059 0.1190768\n",
            " 0.12377451 0.13562092 0.12908497 0.13459967 0.12806373 0.13031046\n",
            " 0.12724673 0.13521242 0.14522059 0.15257353 0.14848856 0.14338235\n",
            " 0.14562908 0.15236928 0.15400327 0.14971405 0.1621732  0.16319444\n",
            " 0.16584967 0.17403388 0.17933056 0.18520094 0.19116409 0.19707158\n",
            " 0.20287681 0.20856857 0.21415538 0.21965832 0.22510491 0.23052427\n",
            " 0.23594294 0.2413833  0.24686225 0.25239152 0.25797811 0.26362586\n",
            " 0.26933622 0.27510992 0.28094715 0.28684905 0.29281747 0.29885557\n",
            " 0.30496743 0.31115803 0.31743327 0.32379925]\n",
            "27 day output [[0.33026254]]\n",
            "28day input[0.17851307 0.19607843 0.18913399 0.18954248 0.19403595 0.19444444\n",
            " 0.20200163 0.19771242 0.19934641 0.19873366 0.1997549  0.2128268\n",
            " 0.21568627 0.20445261 0.21772876 0.21098856 0.21425654 0.19750817\n",
            " 0.18811275 0.17851307 0.17381536 0.16033497 0.16564542 0.17116013\n",
            " 0.17422386 0.18035131 0.17401961 0.16278595 0.16973039 0.17810458\n",
            " 0.17034314 0.16830065 0.17279412 0.17544935 0.18382353 0.19138072\n",
            " 0.18913399 0.19097222 0.17238562 0.16830065 0.1693219  0.17177288\n",
            " 0.16156046 0.14971405 0.1503268  0.15196078 0.14726307 0.14501634\n",
            " 0.14603758 0.12479575 0.13112745 0.11397059 0.1190768  0.12377451\n",
            " 0.13562092 0.12908497 0.13459967 0.12806373 0.13031046 0.12724673\n",
            " 0.13521242 0.14522059 0.15257353 0.14848856 0.14338235 0.14562908\n",
            " 0.15236928 0.15400327 0.14971405 0.1621732  0.16319444 0.16584967\n",
            " 0.17403388 0.17933056 0.18520094 0.19116409 0.19707158 0.20287681\n",
            " 0.20856857 0.21415538 0.21965832 0.22510491 0.23052427 0.23594294\n",
            " 0.2413833  0.24686225 0.25239152 0.25797811 0.26362586 0.26933622\n",
            " 0.27510992 0.28094715 0.28684905 0.29281747 0.29885557 0.30496743\n",
            " 0.31115803 0.31743327 0.32379925 0.33026254]\n",
            "28 day output [[0.3368297]]\n",
            "29day input[0.19607843 0.18913399 0.18954248 0.19403595 0.19444444 0.20200163\n",
            " 0.19771242 0.19934641 0.19873366 0.1997549  0.2128268  0.21568627\n",
            " 0.20445261 0.21772876 0.21098856 0.21425654 0.19750817 0.18811275\n",
            " 0.17851307 0.17381536 0.16033497 0.16564542 0.17116013 0.17422386\n",
            " 0.18035131 0.17401961 0.16278595 0.16973039 0.17810458 0.17034314\n",
            " 0.16830065 0.17279412 0.17544935 0.18382353 0.19138072 0.18913399\n",
            " 0.19097222 0.17238562 0.16830065 0.1693219  0.17177288 0.16156046\n",
            " 0.14971405 0.1503268  0.15196078 0.14726307 0.14501634 0.14603758\n",
            " 0.12479575 0.13112745 0.11397059 0.1190768  0.12377451 0.13562092\n",
            " 0.12908497 0.13459967 0.12806373 0.13031046 0.12724673 0.13521242\n",
            " 0.14522059 0.15257353 0.14848856 0.14338235 0.14562908 0.15236928\n",
            " 0.15400327 0.14971405 0.1621732  0.16319444 0.16584967 0.17403388\n",
            " 0.17933056 0.18520094 0.19116409 0.19707158 0.20287681 0.20856857\n",
            " 0.21415538 0.21965832 0.22510491 0.23052427 0.23594294 0.2413833\n",
            " 0.24686225 0.25239152 0.25797811 0.26362586 0.26933622 0.27510992\n",
            " 0.28094715 0.28684905 0.29281747 0.29885557 0.30496743 0.31115803\n",
            " 0.31743327 0.32379925 0.33026254 0.33682969]\n",
            "29 day output [[0.34350723]]\n",
            "[[0.17403388023376465], [0.17933055758476257], [0.18520094454288483], [0.19116409122943878], [0.19707158207893372], [0.20287680625915527], [0.20856857299804688], [0.214155375957489], [0.21965831518173218], [0.2251049131155014], [0.23052427172660828], [0.23594294488430023], [0.24138329923152924], [0.2468622475862503], [0.252391517162323], [0.2579781115055084], [0.2636258602142334], [0.2693362236022949], [0.2751099169254303], [0.28094714879989624], [0.2868490517139435], [0.29281747341156006], [0.29885557293891907], [0.3049674332141876], [0.31115803122520447], [0.31743326783180237], [0.3237992525100708], [0.33026254177093506], [0.33682969212532043], [0.34350723028182983]]\n"
          ]
        }
      ]
    },
    {
      "cell_type": "code",
      "source": [
        "\n",
        "\n",
        "day_new = np.arange(1,101)\n",
        "day_pred = np.arange(101,131)\n",
        "\n"
      ],
      "metadata": {
        "id": "ryi31SxxhVrT"
      },
      "execution_count": 31,
      "outputs": []
    },
    {
      "cell_type": "code",
      "source": [
        "\n",
        "\n",
        "df3 = data_close.tolist()\n",
        "df3.extend(first_output)\n",
        "\n"
      ],
      "metadata": {
        "id": "oIhVau86hZ2g"
      },
      "execution_count": 32,
      "outputs": []
    },
    {
      "cell_type": "code",
      "source": [
        "\n",
        "\n",
        "len(data_close)\n",
        "\n"
      ],
      "metadata": {
        "colab": {
          "base_uri": "https://localhost:8080/"
        },
        "id": "z5iYwe_ihdD1",
        "outputId": "3bc3c35f-bf16-4ac8-b9c5-34cb3864cebf"
      },
      "execution_count": 33,
      "outputs": [
        {
          "output_type": "execute_result",
          "data": {
            "text/plain": [
              "2035"
            ]
          },
          "metadata": {},
          "execution_count": 33
        }
      ]
    },
    {
      "cell_type": "code",
      "source": [
        "\n",
        "\n",
        "plt.plot(day_new, scaler.inverse_transform(data_close[1935:]))\n",
        "plt.plot(day_pred, scaler.inverse_transform(first_output))\n",
        "\n"
      ],
      "metadata": {
        "colab": {
          "base_uri": "https://localhost:8080/",
          "height": 283
        },
        "id": "6W1ugDsghhFR",
        "outputId": "8cb2d266-ebda-4ef6-fb8e-a9837f605d2f"
      },
      "execution_count": 34,
      "outputs": [
        {
          "output_type": "execute_result",
          "data": {
            "text/plain": [
              "[<matplotlib.lines.Line2D at 0x7fcc2b670390>]"
            ]
          },
          "metadata": {},
          "execution_count": 34
        },
        {
          "output_type": "display_data",
          "data": {
            "text/plain": [
              "<Figure size 432x288 with 1 Axes>"
            ],
            "image/png": "[encoded data removed]"
          },
          "metadata": {
            "needs_background": "light"
          }
        }
      ]
    },
    {
      "cell_type": "code",
      "source": [
        ""
      ],
      "metadata": {
        "id": "SF_y6LuohjyZ"
      },
      "execution_count": null,
      "outputs": []
    }
  ]
}